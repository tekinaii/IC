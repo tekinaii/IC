{
  "cells": [
    {
      "cell_type": "markdown",
      "id": "2c8d230c",
      "metadata": {
        "id": "2c8d230c"
      },
      "source": [
        "## Trabalho realizado por\n",
        "Pedro Santos - A100110 <br><br>\n",
        "João Faria - A100062"
      ]
    },
    {
      "cell_type": "markdown",
      "id": "2608c07c",
      "metadata": {
        "id": "2608c07c"
      },
      "source": [
        "I. [Implemente o algoritmo de Grover para encontrar uma solução para o problema](#1) <p>\n",
        "   1. [Sudoku na programação quântica](#sudoku) <p>\n",
        "   2. [Algoritmo de Grover](#grover) <p>\n",
        "      a.  [Oracle](#oracle) <p>\n",
        "      b.  [Amplificação da amplitude](#amp) <p>\n",
        "   3. [Remoção da ancilla](#ancilla) <p>\n",
        "   4. [Código](#code) <p>\n",
        "      a.  [Inicialização do PennyLane](#qml) <p>\n",
        "      b.  [Variáveis iniciais](#vars) <p>\n",
        "      c.  [Código com algoritmo de Grover](#grovercode) <p>\n",
        "      d.  [Algoritmo visualizado](#plt) <p>\n",
        "      e.  [Resultado](#result) <p>\n",
        "\n",
        "II. [Avalie a eficiência e a complexidade do algoritmo](#2) <p>\n",
        "\n",
        "III. [Proponha uma generalização para o Sudoku 3x3 e discuta as possíveis limitações e os recursos necessários](#3) <p>"
      ]
    },
    {
      "cell_type": "markdown",
      "id": "a6c71878",
      "metadata": {
        "id": "a6c71878"
      },
      "source": [
        "# I. Implement Grover’s algorithm to find a solution to the problem <a id=\"1\"></a>"
      ]
    },
    {
      "cell_type": "markdown",
      "id": "5e81c132",
      "metadata": {
        "id": "5e81c132"
      },
      "source": [
        "## 1. Sudoku na programação quântica <a id=\"sudoku\"></a>"
      ]
    },
    {
      "cell_type": "markdown",
      "id": "aa0b238e",
      "metadata": {
        "id": "aa0b238e"
      },
      "source": [
        "O exercício que escolhemos foi o exercício 2, relacionado ao Sudoku 2x2. <br><br>\n",
        "Com base nas regras do enunciado e pelo fato de ser binário, as únicas duas opções possíveis são as seguintes:"
      ]
    },
    {
      "cell_type": "markdown",
      "id": "7903e671",
      "metadata": {
        "id": "7903e671"
      },
      "source": [
        "<center><div>\n",
        "<img src=\"imgs/sudoku1.png\" width=\"500\"/>\n",
        "<img src=\"imgs/sudoku2.png\" width=\"500\"/>\n",
        "</div></center>"
      ]
    },
    {
      "cell_type": "markdown",
      "id": "2e3d7425",
      "metadata": {
        "id": "2e3d7425"
      },
      "source": [
        "Com isto, podemos utilizar o algoritmo de Grover, que identifica as soluções corretas, sendo elas $|0110\\rangle$ e $|1001\\rangle$. <br> <br>\n",
        "Vamos, então, explicar como o algoritmo de Grover funciona."
      ]
    },
    {
      "cell_type": "markdown",
      "id": "ffd1870d",
      "metadata": {
        "id": "ffd1870d"
      },
      "source": [
        "## 2. Algoritmo de Grover <a id=\"grover\"></a>"
      ]
    },
    {
      "cell_type": "markdown",
      "id": "7d360246",
      "metadata": {
        "id": "7d360246"
      },
      "source": [
        "### a. Oracle <a id=\"oracle\"></a>\n",
        "\n",
        "O oracle é implementado como uma operação quântica que inverte a fase dos estados que correspondem às soluções desejadas, enquanto deixa os outros estados inalterados. <br><br>\n",
        "Sendo assim, temos a seguinte equacao:\n",
        "\n",
        "$$\n",
        "U_\\omega|x\\rangle = \\bigg\\{\n",
        "\\begin{aligned}\n",
        "\\phantom{-}|x\\rangle \\quad \\text{se} \\; x \\notin \\{ |0110\\rangle, |1001\\rangle \\} \\\\\n",
        "-|x\\rangle \\quad \\text{se} \\; x \\in \\{ |0110\\rangle, |1001\\rangle \\} \\\\\n",
        "\\end{aligned}\n",
        "$$\n",
        "\n",
        "Agora é necessario amplificar a probabilidade dos estados que queremos."
      ]
    },
    {
      "cell_type": "markdown",
      "id": "3146ecdc",
      "metadata": {
        "id": "3146ecdc"
      },
      "source": [
        "### b. Amplificação da amplitude <a id=\"amp\"></a>\n",
        "\n",
        "\n",
        "A amplificação da amplitude é um processo que calcula a média de todas as soluções. <br><br>\n",
        "Como as soluções corretas possuem sinais negativos, ao calcular a média, ocorre um aumento nas probabilidades associadas às soluções desejadas.\n",
        "Esse processo pode ser representado pela seguinte equação:\n",
        "\n",
        "$$D = 2|DB \\rangle \\langle DB| - I$$\n",
        "\n",
        "Onde $|DB\\rangle$ é o estado quântico da superposição dos dados e D é  a amplificação da amplitude das soluções."
      ]
    },
    {
      "cell_type": "markdown",
      "id": "76ac4a9b",
      "metadata": {
        "id": "76ac4a9b"
      },
      "source": [
        "Com isso, basta repetir este processo até que as múltiplas soluções desejadas atinjam as probabilidades máximas possíveis ($\\frac{\\pi}{4} \\sqrt{\\frac{N^2}{M}}$). <br><br>\n",
        "$N$ sendo o total de qubits e $M$ sendo o total de estados possíveis."
      ]
    },
    {
      "cell_type": "markdown",
      "id": "426a837b",
      "metadata": {
        "id": "426a837b"
      },
      "source": [
        "## 3. Remoção da ancilla <a id=\"ancilla\"></a>"
      ]
    },
    {
      "cell_type": "markdown",
      "id": "4adcb008",
      "metadata": {
        "id": "4adcb008"
      },
      "source": [
        "A ancilla era usada originalmente para implementar o operador de fase (oracle) e amplificação de amplitude, mas isso pode ser feito diretamente nos qubits de entrada usando operações controladas (ControlledQubitUnitary) com a matriz Z, que permite aplicar o que o CNOT faria com uma ancilla diretamente no último qubit. <br><br>\n",
        "A matriz Z faz exatamente o que o oracle do algoritmo de Grover precisa fazer. O oracle deve marcar as soluções adicionando uma fase de -1, e o Pauli-Z faz isso de forma natural:<br><br>\n",
        "Para um estado |x⟩, o Pauli-Z age como:\n",
        "$$ Z|0\\rangle = |0\\rangle$$\n",
        "$$ Z|1\\rangle = -|1\\rangle $$"
      ]
    },
    {
      "cell_type": "markdown",
      "id": "f4b45fa0",
      "metadata": {
        "id": "f4b45fa0"
      },
      "source": [
        "## 4. Código <a id=\"code\"></a>"
      ]
    },
    {
      "cell_type": "markdown",
      "id": "cf0fae73",
      "metadata": {
        "id": "cf0fae73"
      },
      "source": [
        "Para aplicar este algoritmo iremos usar pennylane na versão 0.40.0. <br><br>\n",
        "Nota: A função qml.broadcast parece ter sido descontinuada nesta versão. Por isso, utilizamos funções auxiliares (broadcast_X e broadcast_H) que replicam o comportamento que o broadcast teria."
      ]
    },
    {
      "cell_type": "markdown",
      "id": "92a6f6ef",
      "metadata": {
        "id": "92a6f6ef"
      },
      "source": [
        "### a. Inicialização do PennyLane <a id=\"qml\"></a>\n",
        "\n",
        "(Impressão da versão do PennyLane para haver esclarecimento da compatibilidade do código.)"
      ]
    },
    {
      "cell_type": "code",
      "execution_count": null,
      "id": "5fe6ee1a",
      "metadata": {
        "id": "5fe6ee1a",
        "outputId": "fe8c0f2d-21ac-493d-ac57-ce17ec43c228"
      },
      "outputs": [
        {
          "name": "stdout",
          "output_type": "stream",
          "text": [
            "0.40.0\n"
          ]
        }
      ],
      "source": [
        "import pennylane as qml\n",
        "from pennylane import numpy as np\n",
        "\n",
        "print(qml.__version__)"
      ]
    },
    {
      "cell_type": "markdown",
      "id": "9e40018f",
      "metadata": {
        "id": "9e40018f"
      },
      "source": [
        "### b. Variáveis iniciais <a id=\"vars\"></a>\n",
        "\n",
        "Como mencionado anteriormente, serão necessários 4 qubits com as soluções $|0110\\rangle$ e $|1001\\rangle$."
      ]
    },
    {
      "cell_type": "code",
      "execution_count": null,
      "id": "7dc4baa2",
      "metadata": {
        "id": "7dc4baa2"
      },
      "outputs": [],
      "source": [
        "n_qubits = 4\n",
        "ids = [[0,1,1,0],[1,0,0,1]]\n",
        "\n",
        "dev = qml.device(\"default.qubit\", wires=n_qubits+1)"
      ]
    },
    {
      "cell_type": "markdown",
      "id": "c038f119",
      "metadata": {
        "id": "c038f119"
      },
      "source": [
        "### c. Código com algoritmo de Grover <a id=\"grovercode\"></a>"
      ]
    },
    {
      "cell_type": "code",
      "execution_count": null,
      "id": "28f18090",
      "metadata": {
        "id": "28f18090"
      },
      "outputs": [],
      "source": [
        "# qml.broadcast deixou de existir na 0.40.0\n",
        "def broadcast_X(list):\n",
        "    for i in list:\n",
        "        qml.PauliX(wires=i)\n",
        "\n",
        "def broadcast_H(list):\n",
        "    for i in list:\n",
        "        qml.Hadamard(wires=i)\n",
        "\n",
        "@qml.qnode(dev)\n",
        "def grover(n_qubits, ids, its=\"optimal\"):\n",
        "\n",
        "    #create registers\n",
        "    input_registers = range(n_qubits)\n",
        "\n",
        "    #superposition\n",
        "    broadcast_H(input_registers)\n",
        "\n",
        "    qml.Barrier()\n",
        "\n",
        "    if its == \"optimal\":\n",
        "        its = round(np.pi/4*np.sqrt(2**n_qubits/len(ids)) - 0.5)\n",
        "\n",
        "    for _ in range(its):\n",
        "\n",
        "        #oracle\n",
        "        for id in ids:\n",
        "            broadcast_X(input_registers[i] for (i,k) in enumerate(id) if k == 0)\n",
        "            qml.ControlledQubitUnitary(qml.PauliZ(input_registers[-1]), control_wires=input_registers[:-1])\n",
        "            broadcast_X(input_registers[i] for (i,k) in enumerate(id) if k == 0)\n",
        "\n",
        "        qml.Barrier()\n",
        "\n",
        "        #diffusion\n",
        "        broadcast_H(input_registers)\n",
        "        broadcast_X(input_registers)\n",
        "        qml.ControlledQubitUnitary(qml.PauliZ(input_registers[-1]), control_wires=input_registers[:-1])\n",
        "        broadcast_X(input_registers)\n",
        "        broadcast_H(input_registers)\n",
        "\n",
        "        qml.Barrier()\n",
        "\n",
        "    #measurement\n",
        "    return qml.probs(wires=input_registers)"
      ]
    },
    {
      "cell_type": "markdown",
      "id": "53ce3d64",
      "metadata": {
        "id": "53ce3d64"
      },
      "source": [
        "### d. Algoritmo visualizado <a id=\"plt\"></a>"
      ]
    },
    {
      "cell_type": "code",
      "execution_count": null,
      "id": "13126438",
      "metadata": {
        "id": "13126438",
        "outputId": "e9c1d125-3f22-405f-bd85-9e8ffe3ea740"
      },
      "outputs": [
        {
          "data": {
            "text/plain": [
              "(<Figure size 2900x500 with 1 Axes>, <Axes: >)"
            ]
          },
          "execution_count": 5,
          "metadata": {},
          "output_type": "execute_result"
        },
        {
          "data": {
            "image/png": "[encoded data removed]",
            "text/plain": [
              "<Figure size 2900x500 with 1 Axes>"
            ]
          },
          "metadata": {},
          "output_type": "display_data"
        }
      ],
      "source": [
        "Grover = qml.QNode(grover, dev)\n",
        "\n",
        "probs = Grover(n_qubits, ids)\n",
        "\n",
        "qml.draw_mpl(Grover)(n_qubits, ids)"
      ]
    },
    {
      "cell_type": "markdown",
      "id": "81bd1b05",
      "metadata": {
        "id": "81bd1b05"
      },
      "source": [
        "### e. Resultado <a id=\"result\"></a>"
      ]
    },
    {
      "cell_type": "code",
      "execution_count": null,
      "id": "955263a4",
      "metadata": {
        "id": "955263a4",
        "outputId": "3fdb51ed-f668-467b-f25d-82f6e0b3c50e"
      },
      "outputs": [
        {
          "data": {
            "image/png": "[encoded data removed]",
            "text/plain": [
              "<Figure size 640x480 with 1 Axes>"
            ]
          },
          "metadata": {},
          "output_type": "display_data"
        }
      ],
      "source": [
        "#Visualize the probability histogram\n",
        "import matplotlib.pyplot as plt\n",
        "plt.bar([np.binary_repr(i, width=n_qubits) for i in range(2**n_qubits)], probs)\n",
        "\n",
        "plt.xlabel(\"Basis State\")\n",
        "plt.ylabel(\"Probability\")\n",
        "plt.yticks(probs)\n",
        "plt.title(\"Probability Distribution\")\n",
        "\n",
        "plt.xticks(rotation=45)\n",
        "\n",
        "plt.show()"
      ]
    },
    {
      "cell_type": "markdown",
      "id": "2737f5b0",
      "metadata": {
        "id": "2737f5b0"
      },
      "source": [
        "# II. Avalie a eficiência e a complexidade do algoritmo <a id=\"2\"></a>"
      ]
    },
    {
      "cell_type": "markdown",
      "source": [
        "A complexidade do Algoritmo é dada por sqrt(N) para N soluções do problema,neste caso como o sudoku é 2x2 o algoritmo de grover consegue resolver com facilidade,pois são apenas necessarios 4 qubits."
      ],
      "metadata": {
        "id": "mWQxBGxc2VN8"
      },
      "id": "mWQxBGxc2VN8"
    },
    {
      "cell_type": "markdown",
      "id": "68d24f0f",
      "metadata": {
        "id": "68d24f0f"
      },
      "source": [
        "# III. Proponha uma generalização para o Sudoku 3x3 e discuta as possíveis limitações e os recursos necessários <a id=\"3\"></a>"
      ]
    },
    {
      "cell_type": "markdown",
      "source": [
        "Já no sudoku 3x3 seriam necessarios mais qubits,visto que são 9 celulas em que cada uma pode ter valores de 1-9."
      ],
      "metadata": {
        "id": "AR-6Ah8N_Fl-"
      },
      "id": "AR-6Ah8N_Fl-"
    },
    {
      "cell_type": "code",
      "source": [],
      "metadata": {
        "id": "KMTO1SRU_GDf"
      },
      "id": "KMTO1SRU_GDf",
      "execution_count": null,
      "outputs": []
    }
  ],
  "metadata": {
    "kernelspec": {
      "display_name": "base",
      "language": "python",
      "name": "python3"
    },
    "language_info": {
      "codemirror_mode": {
        "name": "ipython",
        "version": 3
      },
      "file_extension": ".py",
      "mimetype": "text/x-python",
      "name": "python",
      "nbconvert_exporter": "python",
      "pygments_lexer": "ipython3",
      "version": "3.12.7"
    },
    "colab": {
      "provenance": []
    }
  },
  "nbformat": 4,
  "nbformat_minor": 5
}